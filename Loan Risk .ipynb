{
 "cells": [
  {
   "cell_type": "code",
   "execution_count": 6,
   "metadata": {
    "colab": {
     "base_uri": "https://localhost:8080/"
    },
    "id": "HHr1EZrI7Mv2",
    "outputId": "164f1706-c222-4ff2-8e63-73be76e9e9e5"
   },
   "outputs": [],
   "source": [
    "# from google.colab import drive\n",
    "# drive.mount('/content/drive')"
   ]
  },
  {
   "cell_type": "code",
   "execution_count": 7,
   "metadata": {
    "colab": {
     "base_uri": "https://localhost:8080/"
    },
    "id": "CI1-tSwi7bDs",
    "outputId": "d83f0ad4-6718-4ea3-9d1f-6a26fba69dba"
   },
   "outputs": [],
   "source": [
    "# %cd /content/drive/MyDrive/FDM_Mini_Project"
   ]
  },
  {
   "cell_type": "code",
   "execution_count": 28,
   "metadata": {
    "colab": {
     "base_uri": "https://localhost:8080/"
    },
    "id": "cl7ZdRLp7kYr",
    "outputId": "e3efc23e-c310-4db4-f794-ad90c17fead0"
   },
   "outputs": [
    {
     "name": "stdout",
     "output_type": "stream",
     "text": [
      "Requirement already satisfied: category_encoders in c:\\users\\msi\\anaconda3\\lib\\site-packages (2.2.2)\n",
      "Requirement already satisfied: numpy>=1.14.0 in c:\\users\\msi\\appdata\\roaming\\python\\python38\\site-packages (from category_encoders) (1.21.0)\n",
      "Requirement already satisfied: scipy>=1.0.0 in c:\\users\\msi\\anaconda3\\lib\\site-packages (from category_encoders) (1.6.2)\n",
      "Requirement already satisfied: scikit-learn>=0.20.0 in c:\\users\\msi\\anaconda3\\lib\\site-packages (from category_encoders) (0.24.1)\n",
      "Requirement already satisfied: patsy>=0.5.1 in c:\\users\\msi\\anaconda3\\lib\\site-packages (from category_encoders) (0.5.1)\n",
      "Requirement already satisfied: statsmodels>=0.9.0 in c:\\users\\msi\\anaconda3\\lib\\site-packages (from category_encoders) (0.12.2)\n",
      "Requirement already satisfied: pandas>=0.21.1 in c:\\users\\msi\\anaconda3\\lib\\site-packages (from category_encoders) (1.2.4)\n",
      "Requirement already satisfied: python-dateutil>=2.7.3 in c:\\users\\msi\\anaconda3\\lib\\site-packages (from pandas>=0.21.1->category_encoders) (2.8.1)\n",
      "Requirement already satisfied: pytz>=2017.3 in c:\\users\\msi\\anaconda3\\lib\\site-packages (from pandas>=0.21.1->category_encoders) (2021.1)\n",
      "Requirement already satisfied: six in c:\\users\\msi\\anaconda3\\lib\\site-packages (from patsy>=0.5.1->category_encoders) (1.15.0)\n",
      "Requirement already satisfied: threadpoolctl>=2.0.0 in c:\\users\\msi\\anaconda3\\lib\\site-packages (from scikit-learn>=0.20.0->category_encoders) (2.1.0)\n",
      "Requirement already satisfied: joblib>=0.11 in c:\\users\\msi\\anaconda3\\lib\\site-packages (from scikit-learn>=0.20.0->category_encoders) (1.0.1)\n"
     ]
    }
   ],
   "source": [
    "!pip install category_encoders"
   ]
  },
  {
   "cell_type": "code",
   "execution_count": 3,
   "metadata": {
    "colab": {
     "base_uri": "https://localhost:8080/"
    },
    "id": "xZWIig6D7rhA",
    "outputId": "88968a9d-8fda-473a-ccf4-97f1758e23f3"
   },
   "outputs": [],
   "source": [
    "import pandas as pd \n",
    "import numpy as np \n",
    "import sklearn \n",
    "import matplotlib.pyplot as plt # data visualization\n",
    "import seaborn as sn # statistical data visualization\n",
    "from sklearn.model_selection import train_test_split\n",
    "import category_encoders as enc\n",
    "%matplotlib inline"
   ]
  },
  {
   "cell_type": "code",
   "execution_count": 4,
   "metadata": {
    "colab": {
     "base_uri": "https://localhost:8080/"
    },
    "id": "x9HIGnJT8YVf",
    "outputId": "64fff0e9-27d7-426e-9362-c8bd0be1a9cb"
   },
   "outputs": [
    {
     "data": {
      "text/plain": [
       "Id                   0\n",
       "Income               0\n",
       "Age                  0\n",
       "Experience           0\n",
       "Married/Single       0\n",
       "House_Ownership      0\n",
       "Car_Ownership        0\n",
       "Profession           0\n",
       "CITY                 0\n",
       "STATE                0\n",
       "CURRENT_JOB_YRS      0\n",
       "CURRENT_HOUSE_YRS    0\n",
       "Risk_Flag            0\n",
       "dtype: int64"
      ]
     },
     "execution_count": 4,
     "metadata": {},
     "output_type": "execute_result"
    }
   ],
   "source": [
    "dataset = pd.read_csv('Training Data.csv')\n",
    "dataset.isnull().sum()"
   ]
  },
  {
   "cell_type": "code",
   "execution_count": 5,
   "metadata": {
    "colab": {
     "base_uri": "https://localhost:8080/",
     "height": 206
    },
    "id": "3d_AP_MT8lav",
    "outputId": "7724146c-28fe-497f-fba9-272de3edef95"
   },
   "outputs": [
    {
     "data": {
      "text/html": [
       "<div>\n",
       "<style scoped>\n",
       "    .dataframe tbody tr th:only-of-type {\n",
       "        vertical-align: middle;\n",
       "    }\n",
       "\n",
       "    .dataframe tbody tr th {\n",
       "        vertical-align: top;\n",
       "    }\n",
       "\n",
       "    .dataframe thead th {\n",
       "        text-align: right;\n",
       "    }\n",
       "</style>\n",
       "<table border=\"1\" class=\"dataframe\">\n",
       "  <thead>\n",
       "    <tr style=\"text-align: right;\">\n",
       "      <th></th>\n",
       "      <th>Id</th>\n",
       "      <th>Income</th>\n",
       "      <th>Age</th>\n",
       "      <th>Experience</th>\n",
       "      <th>Married/Single</th>\n",
       "      <th>House_Ownership</th>\n",
       "      <th>Car_Ownership</th>\n",
       "      <th>Profession</th>\n",
       "      <th>CITY</th>\n",
       "      <th>STATE</th>\n",
       "      <th>CURRENT_JOB_YRS</th>\n",
       "      <th>CURRENT_HOUSE_YRS</th>\n",
       "      <th>Risk_Flag</th>\n",
       "    </tr>\n",
       "  </thead>\n",
       "  <tbody>\n",
       "    <tr>\n",
       "      <th>0</th>\n",
       "      <td>1</td>\n",
       "      <td>1303834</td>\n",
       "      <td>23</td>\n",
       "      <td>3</td>\n",
       "      <td>single</td>\n",
       "      <td>rented</td>\n",
       "      <td>no</td>\n",
       "      <td>Mechanical_engineer</td>\n",
       "      <td>Rewa</td>\n",
       "      <td>Madhya_Pradesh</td>\n",
       "      <td>3</td>\n",
       "      <td>13</td>\n",
       "      <td>0</td>\n",
       "    </tr>\n",
       "    <tr>\n",
       "      <th>1</th>\n",
       "      <td>2</td>\n",
       "      <td>7574516</td>\n",
       "      <td>40</td>\n",
       "      <td>10</td>\n",
       "      <td>single</td>\n",
       "      <td>rented</td>\n",
       "      <td>no</td>\n",
       "      <td>Software_Developer</td>\n",
       "      <td>Parbhani</td>\n",
       "      <td>Maharashtra</td>\n",
       "      <td>9</td>\n",
       "      <td>13</td>\n",
       "      <td>0</td>\n",
       "    </tr>\n",
       "    <tr>\n",
       "      <th>2</th>\n",
       "      <td>3</td>\n",
       "      <td>3991815</td>\n",
       "      <td>66</td>\n",
       "      <td>4</td>\n",
       "      <td>married</td>\n",
       "      <td>rented</td>\n",
       "      <td>no</td>\n",
       "      <td>Technical_writer</td>\n",
       "      <td>Alappuzha</td>\n",
       "      <td>Kerala</td>\n",
       "      <td>4</td>\n",
       "      <td>10</td>\n",
       "      <td>0</td>\n",
       "    </tr>\n",
       "    <tr>\n",
       "      <th>3</th>\n",
       "      <td>4</td>\n",
       "      <td>6256451</td>\n",
       "      <td>41</td>\n",
       "      <td>2</td>\n",
       "      <td>single</td>\n",
       "      <td>rented</td>\n",
       "      <td>yes</td>\n",
       "      <td>Software_Developer</td>\n",
       "      <td>Bhubaneswar</td>\n",
       "      <td>Odisha</td>\n",
       "      <td>2</td>\n",
       "      <td>12</td>\n",
       "      <td>1</td>\n",
       "    </tr>\n",
       "    <tr>\n",
       "      <th>4</th>\n",
       "      <td>5</td>\n",
       "      <td>5768871</td>\n",
       "      <td>47</td>\n",
       "      <td>11</td>\n",
       "      <td>single</td>\n",
       "      <td>rented</td>\n",
       "      <td>no</td>\n",
       "      <td>Civil_servant</td>\n",
       "      <td>Tiruchirappalli[10]</td>\n",
       "      <td>Tamil_Nadu</td>\n",
       "      <td>3</td>\n",
       "      <td>14</td>\n",
       "      <td>1</td>\n",
       "    </tr>\n",
       "  </tbody>\n",
       "</table>\n",
       "</div>"
      ],
      "text/plain": [
       "   Id   Income  Age  Experience Married/Single House_Ownership Car_Ownership  \\\n",
       "0   1  1303834   23           3         single          rented            no   \n",
       "1   2  7574516   40          10         single          rented            no   \n",
       "2   3  3991815   66           4        married          rented            no   \n",
       "3   4  6256451   41           2         single          rented           yes   \n",
       "4   5  5768871   47          11         single          rented            no   \n",
       "\n",
       "            Profession                 CITY           STATE  CURRENT_JOB_YRS  \\\n",
       "0  Mechanical_engineer                 Rewa  Madhya_Pradesh                3   \n",
       "1   Software_Developer             Parbhani     Maharashtra                9   \n",
       "2     Technical_writer            Alappuzha          Kerala                4   \n",
       "3   Software_Developer          Bhubaneswar          Odisha                2   \n",
       "4        Civil_servant  Tiruchirappalli[10]      Tamil_Nadu                3   \n",
       "\n",
       "   CURRENT_HOUSE_YRS  Risk_Flag  \n",
       "0                 13          0  \n",
       "1                 13          0  \n",
       "2                 10          0  \n",
       "3                 12          1  \n",
       "4                 14          1  "
      ]
     },
     "execution_count": 5,
     "metadata": {},
     "output_type": "execute_result"
    }
   ],
   "source": [
    "dataset.head()"
   ]
  },
  {
   "cell_type": "code",
   "execution_count": 6,
   "metadata": {
    "id": "CMXJiKJHB1M-"
   },
   "outputs": [],
   "source": [
    "def feature_engineering(df):\n",
    "  from sklearn.preprocessing import LabelEncoder\n",
    "  en = LabelEncoder()\n",
    "  catCols = ['Married/Single','House_Ownership','Car_Ownership','Profession','STATE','CITY']\n",
    "  for cols in catCols:\n",
    "      dataset[cols] = en.fit_transform(dataset[cols])\n",
    "\n",
    "  return dataset"
   ]
  },
  {
   "cell_type": "code",
   "execution_count": 7,
   "metadata": {
    "id": "9Jd4TG1H_6Ul"
   },
   "outputs": [],
   "source": [
    "new_dataset = feature_engineering(dataset)\n",
    "new_dataset.drop(['Id'], inplace = True, axis = 1)\n",
    "new_dataset.drop(['CITY'], inplace = True, axis = 1)\n",
    "\n",
    "#Dataset without labels\n",
    "X = new_dataset.drop(['Risk_Flag'], axis=1)\n",
    "\n",
    "#Labels\n",
    "y = new_dataset['Risk_Flag']\n",
    "\n",
    "#Split data\n",
    "X_train, X_test, y_train, y_test = train_test_split(X, y, train_size=0.7,test_size=0.3, random_state = 42)"
   ]
  },
  {
   "cell_type": "code",
   "execution_count": 8,
   "metadata": {
    "colab": {
     "base_uri": "https://localhost:8080/",
     "height": 206
    },
    "id": "Q01XF-2OGgwd",
    "outputId": "53a82fc9-f746-46d3-eb33-499b8f0b22c6"
   },
   "outputs": [
    {
     "data": {
      "text/html": [
       "<div>\n",
       "<style scoped>\n",
       "    .dataframe tbody tr th:only-of-type {\n",
       "        vertical-align: middle;\n",
       "    }\n",
       "\n",
       "    .dataframe tbody tr th {\n",
       "        vertical-align: top;\n",
       "    }\n",
       "\n",
       "    .dataframe thead th {\n",
       "        text-align: right;\n",
       "    }\n",
       "</style>\n",
       "<table border=\"1\" class=\"dataframe\">\n",
       "  <thead>\n",
       "    <tr style=\"text-align: right;\">\n",
       "      <th></th>\n",
       "      <th>Income</th>\n",
       "      <th>Age</th>\n",
       "      <th>Experience</th>\n",
       "      <th>Married/Single</th>\n",
       "      <th>House_Ownership</th>\n",
       "      <th>Car_Ownership</th>\n",
       "      <th>Profession</th>\n",
       "      <th>STATE</th>\n",
       "      <th>CURRENT_JOB_YRS</th>\n",
       "      <th>CURRENT_HOUSE_YRS</th>\n",
       "      <th>Risk_Flag</th>\n",
       "    </tr>\n",
       "  </thead>\n",
       "  <tbody>\n",
       "    <tr>\n",
       "      <th>0</th>\n",
       "      <td>1303834</td>\n",
       "      <td>23</td>\n",
       "      <td>3</td>\n",
       "      <td>1</td>\n",
       "      <td>2</td>\n",
       "      <td>0</td>\n",
       "      <td>33</td>\n",
       "      <td>13</td>\n",
       "      <td>3</td>\n",
       "      <td>13</td>\n",
       "      <td>0</td>\n",
       "    </tr>\n",
       "    <tr>\n",
       "      <th>1</th>\n",
       "      <td>7574516</td>\n",
       "      <td>40</td>\n",
       "      <td>10</td>\n",
       "      <td>1</td>\n",
       "      <td>2</td>\n",
       "      <td>0</td>\n",
       "      <td>43</td>\n",
       "      <td>14</td>\n",
       "      <td>9</td>\n",
       "      <td>13</td>\n",
       "      <td>0</td>\n",
       "    </tr>\n",
       "    <tr>\n",
       "      <th>2</th>\n",
       "      <td>3991815</td>\n",
       "      <td>66</td>\n",
       "      <td>4</td>\n",
       "      <td>0</td>\n",
       "      <td>2</td>\n",
       "      <td>0</td>\n",
       "      <td>47</td>\n",
       "      <td>12</td>\n",
       "      <td>4</td>\n",
       "      <td>10</td>\n",
       "      <td>0</td>\n",
       "    </tr>\n",
       "    <tr>\n",
       "      <th>3</th>\n",
       "      <td>6256451</td>\n",
       "      <td>41</td>\n",
       "      <td>2</td>\n",
       "      <td>1</td>\n",
       "      <td>2</td>\n",
       "      <td>1</td>\n",
       "      <td>43</td>\n",
       "      <td>17</td>\n",
       "      <td>2</td>\n",
       "      <td>12</td>\n",
       "      <td>1</td>\n",
       "    </tr>\n",
       "    <tr>\n",
       "      <th>4</th>\n",
       "      <td>5768871</td>\n",
       "      <td>47</td>\n",
       "      <td>11</td>\n",
       "      <td>1</td>\n",
       "      <td>2</td>\n",
       "      <td>0</td>\n",
       "      <td>11</td>\n",
       "      <td>22</td>\n",
       "      <td>3</td>\n",
       "      <td>14</td>\n",
       "      <td>1</td>\n",
       "    </tr>\n",
       "  </tbody>\n",
       "</table>\n",
       "</div>"
      ],
      "text/plain": [
       "    Income  Age  Experience  Married/Single  House_Ownership  Car_Ownership  \\\n",
       "0  1303834   23           3               1                2              0   \n",
       "1  7574516   40          10               1                2              0   \n",
       "2  3991815   66           4               0                2              0   \n",
       "3  6256451   41           2               1                2              1   \n",
       "4  5768871   47          11               1                2              0   \n",
       "\n",
       "   Profession  STATE  CURRENT_JOB_YRS  CURRENT_HOUSE_YRS  Risk_Flag  \n",
       "0          33     13                3                 13          0  \n",
       "1          43     14                9                 13          0  \n",
       "2          47     12                4                 10          0  \n",
       "3          43     17                2                 12          1  \n",
       "4          11     22                3                 14          1  "
      ]
     },
     "execution_count": 8,
     "metadata": {},
     "output_type": "execute_result"
    }
   ],
   "source": [
    "new_dataset.head()"
   ]
  },
  {
   "cell_type": "code",
   "execution_count": 9,
   "metadata": {
    "colab": {
     "base_uri": "https://localhost:8080/"
    },
    "id": "4nxrA3pn380K",
    "outputId": "e0ec913c-b9fa-44d8-a0fc-ae28e9dea502"
   },
   "outputs": [
    {
     "data": {
      "text/plain": [
       "((176400, 10), (75600, 10), (176400,), (75600,))"
      ]
     },
     "execution_count": 9,
     "metadata": {},
     "output_type": "execute_result"
    }
   ],
   "source": [
    "X_train.shape, X_test.shape, y_train.shape, y_test.shape"
   ]
  },
  {
   "cell_type": "code",
   "execution_count": 10,
   "metadata": {
    "colab": {
     "base_uri": "https://localhost:8080/",
     "height": 698
    },
    "id": "l_i8RAKR-aVd",
    "outputId": "27ece104-7bdf-4189-a2e4-8b03ebc70c64"
   },
   "outputs": [
    {
     "data": {
      "image/png": "[encoded data removed]",
      "text/plain": [
       "<Figure size 1440x720 with 2 Axes>"
      ]
     },
     "metadata": {
      "needs_background": "light"
     },
     "output_type": "display_data"
    }
   ],
   "source": [
    "plt.figure(figsize = (20,10))\n",
    "corrMatrix=new_dataset.corr()\n",
    "sn.heatmap(corrMatrix, annot=True)\n",
    "plt.show()"
   ]
  },
  {
   "cell_type": "code",
   "execution_count": 11,
   "metadata": {
    "colab": {
     "base_uri": "https://localhost:8080/",
     "height": 537
    },
    "id": "OEnXGPBW_aQt",
    "outputId": "824f9baf-530c-44c9-d253-dc0d787d3fd0"
   },
   "outputs": [
    {
     "data": {
      "image/png": "[encoded data removed]",
      "text/plain": [
       "<Figure size 504x648 with 1 Axes>"
      ]
     },
     "metadata": {
      "needs_background": "light"
     },
     "output_type": "display_data"
    }
   ],
   "source": [
    "#Feature importances\n",
    "from sklearn.ensemble import ExtraTreesClassifier\n",
    "\n",
    "model = ExtraTreesClassifier()\n",
    "model.fit(X,y)\n",
    "\n",
    "plt.figure(figsize = (7,9))\n",
    "imp = pd.Series(model.feature_importances_,index= X.columns)\n",
    "imp.nlargest(30).plot(kind='barh')\n",
    "\n",
    "plt.show()"
   ]
  },
  {
   "cell_type": "code",
   "execution_count": 12,
   "metadata": {
    "colab": {
     "base_uri": "https://localhost:8080/",
     "height": 620
    },
    "id": "UY1s24SaAScN",
    "outputId": "b8b5e00b-b050-4fff-cb2e-5ea2daba8971"
   },
   "outputs": [
    {
     "data": {
      "text/plain": [
       "<AxesSubplot:>"
      ]
     },
     "execution_count": 12,
     "metadata": {},
     "output_type": "execute_result"
    },
    {
     "data": {
      "image/png": "[encoded data removed]",
      "text/plain": [
       "<Figure size 1440x720 with 1 Axes>"
      ]
     },
     "metadata": {
      "needs_background": "light"
     },
     "output_type": "display_data"
    }
   ],
   "source": [
    "X.boxplot(figsize=(20,10))"
   ]
  },
  {
   "cell_type": "markdown",
   "metadata": {
    "id": "ESF2nptWEwjz"
   },
   "source": [
    "# Decision Tree"
   ]
  },
  {
   "cell_type": "code",
   "execution_count": 39,
   "metadata": {
    "colab": {
     "base_uri": "https://localhost:8080/"
    },
    "id": "dYuXeD-nDWpc",
    "outputId": "dc38d33f-aa2f-4a3c-a005-075450230f75"
   },
   "outputs": [
    {
     "name": "stdout",
     "output_type": "stream",
     "text": [
      "The accuracy score of Random Forest Classifier is 0.8773677248677249\n",
      "\n",
      "The AUC-ROC score is 0.5\n"
     ]
    }
   ],
   "source": [
    "from sklearn.tree import DecisionTreeClassifier\n",
    "from sklearn.metrics import accuracy_score, classification_report, roc_curve, roc_auc_score\n",
    "\n",
    "gini = DecisionTreeClassifier(criterion = \"entropy\",\n",
    "            random_state = 880,max_depth=3, min_samples_leaf=5)\n",
    "gini.fit(X_train, y_train)\n",
    "\n",
    "y_pred = gini.predict(X_test)\n",
    "\n",
    "print(\"The accuracy score of Random Forest Classifier is {}\".format(accuracy_score(y_test, y_pred)))\n",
    "print()\n",
    "print(\"The AUC-ROC score is {}\".format(roc_auc_score(y_test, y_pred)))"
   ]
  },
  {
   "cell_type": "markdown",
   "metadata": {
    "id": "fTlTB0drE72y"
   },
   "source": [
    "# Random Forest"
   ]
  },
  {
   "cell_type": "code",
   "execution_count": 40,
   "metadata": {
    "colab": {
     "base_uri": "https://localhost:8080/"
    },
    "id": "lA2DVKH0E3hT",
    "outputId": "fe7ab170-00e4-4f41-b2dd-106d665f0544"
   },
   "outputs": [
    {
     "name": "stdout",
     "output_type": "stream",
     "text": [
      "The accuracy score of Random Forest Classifier is 0.898994708994709\n",
      "\n",
      "Classification Report:\n",
      "              precision    recall  f1-score   support\n",
      "\n",
      "           0       0.94      0.95      0.94     66329\n",
      "           1       0.60      0.54      0.57      9271\n",
      "\n",
      "    accuracy                           0.90     75600\n",
      "   macro avg       0.77      0.75      0.76     75600\n",
      "weighted avg       0.90      0.90      0.90     75600\n",
      "\n",
      "\n",
      "The AUC-ROC score is 0.7467045534396686\n"
     ]
    }
   ],
   "source": [
    "# import Random Forest classifier\n",
    "from sklearn.ensemble import RandomForestClassifier\n",
    "from sklearn.metrics import accuracy_score, classification_report, roc_curve, roc_auc_score\n",
    "\n",
    "# instantiate the classifier \n",
    "rfc = RandomForestClassifier(random_state=42)\n",
    "\n",
    "# fit the model\n",
    "rfc.fit(X_train, y_train)\n",
    "\n",
    "# Predict the Test set results\n",
    "y_pred = rfc.predict(X_test)\n",
    "\n",
    "print(\"The accuracy score of Random Forest Classifier is {}\".format(accuracy_score(y_test, y_pred)))\n",
    "print()\n",
    "print(\"Classification Report:\")\n",
    "print(classification_report(y_test, y_pred))\n",
    "print()\n",
    "print(\"The AUC-ROC score is {}\".format(roc_auc_score(y_test, y_pred)))"
   ]
  },
  {
   "cell_type": "markdown",
   "metadata": {
    "id": "_-PfkuECFan2"
   },
   "source": [
    "# Gradient Boost"
   ]
  },
  {
   "cell_type": "code",
   "execution_count": 41,
   "metadata": {
    "colab": {
     "base_uri": "https://localhost:8080/"
    },
    "id": "7kehAvjHFgD7",
    "outputId": "68fd15d4-4157-44af-8223-7dfd567a24df"
   },
   "outputs": [
    {
     "name": "stdout",
     "output_type": "stream",
     "text": [
      "The accuracy score of Random Forest Classifier is 0.877526455026455\n",
      "\n",
      "Classification Report:\n",
      "              precision    recall  f1-score   support\n",
      "\n",
      "           0       0.88      1.00      0.93     66329\n",
      "           1       0.73      0.00      0.00      9271\n",
      "\n",
      "    accuracy                           0.88     75600\n",
      "   macro avg       0.80      0.50      0.47     75600\n",
      "weighted avg       0.86      0.88      0.82     75600\n",
      "\n",
      "\n",
      "The AUC-ROC score is 0.5009719334133349\n"
     ]
    }
   ],
   "source": [
    "#%%script false\n",
    "# import classifier\n",
    "from sklearn.ensemble import GradientBoostingClassifier\n",
    "from sklearn.metrics import accuracy_score, classification_report, roc_curve, roc_auc_score\n",
    "\n",
    "# instantiate the classifier \n",
    "rfc = GradientBoostingClassifier()\n",
    "\n",
    "# fit the model\n",
    "rfc.fit(X_train, y_train)\n",
    "\n",
    "# Predict the Test set results\n",
    "y_pred = rfc.predict(X_test)\n",
    "\n",
    "print(\"The accuracy score of Random Forest Classifier is {}\".format(accuracy_score(y_test, y_pred)))\n",
    "print()\n",
    "print(\"Classification Report:\")\n",
    "print(classification_report(y_test, y_pred))\n",
    "print()\n",
    "print(\"The AUC-ROC score is {}\".format(roc_auc_score(y_test, y_pred)))"
   ]
  },
  {
   "cell_type": "markdown",
   "metadata": {
    "id": "D1dRXgHuGOVf"
   },
   "source": [
    "# KNN"
   ]
  },
  {
   "cell_type": "code",
   "execution_count": 42,
   "metadata": {
    "colab": {
     "base_uri": "https://localhost:8080/"
    },
    "id": "OHAwH7dbGLOs",
    "outputId": "c2ef73c9-cea6-419e-e401-bae02416c5ef"
   },
   "outputs": [
    {
     "name": "stdout",
     "output_type": "stream",
     "text": [
      "The accuracy score of Random Forest Classifier is 0.8880423280423281\n",
      "\n",
      "Classification Report:\n",
      "              precision    recall  f1-score   support\n",
      "\n",
      "           0       0.93      0.94      0.94     66329\n",
      "           1       0.55      0.48      0.51      9271\n",
      "\n",
      "    accuracy                           0.89     75600\n",
      "   macro avg       0.74      0.71      0.73     75600\n",
      "weighted avg       0.88      0.89      0.88     75600\n",
      "\n",
      "\n",
      "The AUC-ROC score is 0.7142970429878396\n"
     ]
    }
   ],
   "source": [
    "#%%script false\n",
    "from sklearn.neighbors import KNeighborsClassifier\n",
    "from sklearn.metrics import accuracy_score, classification_report, roc_curve, roc_auc_score\n",
    "\n",
    "# instantiate the classifier \n",
    "rfc = KNeighborsClassifier(n_neighbors=5)\n",
    "\n",
    "# fit the model\n",
    "rfc.fit(X_train, y_train)\n",
    "\n",
    "# Predict the Test set results\n",
    "y_pred = rfc.predict(X_test)\n",
    "\n",
    "print(\"The accuracy score of Random Forest Classifier is {}\".format(accuracy_score(y_test, y_pred)))\n",
    "print()\n",
    "print(\"Classification Report:\")\n",
    "print(classification_report(y_test, y_pred))\n",
    "print()\n",
    "print(\"The AUC-ROC score is {}\".format(roc_auc_score(y_test, y_pred)))"
   ]
  }
 ],
 "metadata": {
  "colab": {
   "collapsed_sections": [],
   "name": "FDM_Mini_Project.ipynb",
   "provenance": []
  },
  "kernelspec": {
   "display_name": "Python 3",
   "language": "python",
   "name": "python3"
  },
  "language_info": {
   "codemirror_mode": {
    "name": "ipython",
    "version": 3
   },
   "file_extension": ".py",
   "mimetype": "text/x-python",
   "name": "python",
   "nbconvert_exporter": "python",
   "pygments_lexer": "ipython3",
   "version": "3.8.8"
  }
 },
 "nbformat": 4,
 "nbformat_minor": 1
}
